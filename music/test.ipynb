{
 "cells": [
  {
   "cell_type": "code",
   "execution_count": 2,
   "metadata": {
    "collapsed": true
   },
   "outputs": [],
   "source": [
    "import json\n",
    "import re\n",
    "import os\n",
    "import yaml\n",
    "import time\n",
    "import logging\n",
    "from selenium.webdriver import Chrome\n",
    "from selenium.webdriver.chrome.options import Options\n",
    "from selenium.webdriver.common.by import By\n",
    "from selenium.webdriver.support.ui import WebDriverWait\n",
    "from selenium.webdriver.support import expected_conditions as EC\n",
    "from selenium.common.exceptions import *\n",
    "from selenium.webdriver.common.keys import Keys\n",
    "\n",
    "logging.basicConfig(level=logging.INFO, format='%(asctime)s - %(levelname)s: %(message)s')\n",
    "console_logger = logging.getLogger(__name__)\n",
    "# 读取yaml文件\n",
    "cfg_fn = \"console_config.yaml\"\n",
    "cfg_fp = r\"C:\\Users\\Admin\\Desktop\\2021_projects\\github\\find_fish\\music\\console_config.yaml\"\n",
    "with open(cfg_fp, 'r', encoding=\"utf-8\") as f:\n",
    "    cfg_data = yaml.load(stream=f, Loader=yaml.FullLoader)\n",
    "\n",
    "chrome_options = Options()\n",
    "# chrome_options.add_argument('--headless')\n",
    "\n",
    "web = Chrome(options=chrome_options)\n",
    "\n",
    "music_station = cfg_data['music_station']\n",
    "\n",
    "\n"
   ]
  },
  {
   "cell_type": "code",
   "execution_count": 3,
   "outputs": [
    {
     "ename": "TimeoutException",
     "evalue": "Message: 网页元素加载失败，请重试，页面元素xpath路径：//*[@id=\"g_iframe\"]//*[@id=\"m-search\"]/div[3]/div/div\n",
     "output_type": "error",
     "traceback": [
      "\u001B[1;31m---------------------------------------------------------------------------\u001B[0m",
      "\u001B[1;31mTimeoutException\u001B[0m                          Traceback (most recent call last)",
      "Input \u001B[1;32mIn [2]\u001B[0m, in \u001B[0;36mMusicConsole.waitElement\u001B[1;34m(xpath, info)\u001B[0m\n\u001B[0;32m     47\u001B[0m \u001B[38;5;28;01mtry\u001B[39;00m:\n\u001B[1;32m---> 48\u001B[0m     \u001B[43mWebDriverWait\u001B[49m\u001B[43m(\u001B[49m\u001B[43mweb\u001B[49m\u001B[43m,\u001B[49m\u001B[43m \u001B[49m\u001B[38;5;241;43m10\u001B[39;49m\u001B[43m)\u001B[49m\u001B[38;5;241;43m.\u001B[39;49m\u001B[43muntil\u001B[49m\u001B[43m(\u001B[49m\n\u001B[0;32m     49\u001B[0m \u001B[43m        \u001B[49m\u001B[43mEC\u001B[49m\u001B[38;5;241;43m.\u001B[39;49m\u001B[43mpresence_of_element_located\u001B[49m\u001B[43m(\u001B[49m\u001B[43m(\u001B[49m\u001B[43mBy\u001B[49m\u001B[38;5;241;43m.\u001B[39;49m\u001B[43mXPATH\u001B[49m\u001B[43m,\u001B[49m\u001B[43m \u001B[49m\u001B[43mxpath\u001B[49m\u001B[43m)\u001B[49m\u001B[43m)\u001B[49m\n\u001B[0;32m     50\u001B[0m \u001B[43m    \u001B[49m\u001B[43m)\u001B[49m\n\u001B[0;32m     51\u001B[0m     console_logger\u001B[38;5;241m.\u001B[39minfo(\u001B[38;5;124mf\u001B[39m\u001B[38;5;124m\"\u001B[39m\u001B[38;5;124m元素 \u001B[39m\u001B[38;5;132;01m{\u001B[39;00minfo\u001B[38;5;132;01m}\u001B[39;00m\u001B[38;5;124m 加载成功: \u001B[39m\u001B[38;5;132;01m{\u001B[39;00mxpath\u001B[38;5;132;01m}\u001B[39;00m\u001B[38;5;124m\"\u001B[39m)\n",
      "File \u001B[1;32m~\\AppData\\Roaming\\Python\\Python39\\site-packages\\selenium\\webdriver\\support\\wait.py:87\u001B[0m, in \u001B[0;36mWebDriverWait.until\u001B[1;34m(self, method, message)\u001B[0m\n\u001B[0;32m     86\u001B[0m         \u001B[38;5;28;01mbreak\u001B[39;00m\n\u001B[1;32m---> 87\u001B[0m \u001B[38;5;28;01mraise\u001B[39;00m TimeoutException(message, screen, stacktrace)\n",
      "\u001B[1;31mTimeoutException\u001B[0m: Message: \nStacktrace:\nBacktrace:\n\tOrdinal0 [0x009B6463+2188387]\n\tOrdinal0 [0x0094E461+1762401]\n\tOrdinal0 [0x00863D78+802168]\n\tOrdinal0 [0x00891880+989312]\n\tOrdinal0 [0x00891B1B+989979]\n\tOrdinal0 [0x008BE912+1173778]\n\tOrdinal0 [0x008AC824+1099812]\n\tOrdinal0 [0x008BCC22+1166370]\n\tOrdinal0 [0x008AC5F6+1099254]\n\tOrdinal0 [0x00886BE0+945120]\n\tOrdinal0 [0x00887AD6+948950]\n\tGetHandleVerifier [0x00C571F2+2712546]\n\tGetHandleVerifier [0x00C4886D+2652765]\n\tGetHandleVerifier [0x00A4002A+520730]\n\tGetHandleVerifier [0x00A3EE06+516086]\n\tOrdinal0 [0x0095468B+1787531]\n\tOrdinal0 [0x00958E88+1805960]\n\tOrdinal0 [0x00958F75+1806197]\n\tOrdinal0 [0x00961DF1+1842673]\n\tBaseThreadInitThunk [0x75ACFA29+25]\n\tRtlGetAppContainerNamedObjectPath [0x772D7BBE+286]\n\tRtlGetAppContainerNamedObjectPath [0x772D7B8E+238]\n",
      "\nDuring handling of the above exception, another exception occurred:\n",
      "\u001B[1;31mTimeoutException\u001B[0m                          Traceback (most recent call last)",
      "Input \u001B[1;32mIn [3]\u001B[0m, in \u001B[0;36m<cell line: 2>\u001B[1;34m()\u001B[0m\n\u001B[0;32m      1\u001B[0m mc \u001B[38;5;241m=\u001B[39m MusicConsole(\u001B[38;5;124m'\u001B[39m\u001B[38;5;124mnet_ease\u001B[39m\u001B[38;5;124m'\u001B[39m)\n\u001B[1;32m----> 2\u001B[0m \u001B[43mmc\u001B[49m\u001B[38;5;241;43m.\u001B[39;49m\u001B[43msearchMusic\u001B[49m\u001B[43m(\u001B[49m\u001B[38;5;124;43m\"\u001B[39;49m\u001B[38;5;124;43mfripside\u001B[39;49m\u001B[38;5;124;43m\"\u001B[39;49m\u001B[43m)\u001B[49m\n",
      "Input \u001B[1;32mIn [2]\u001B[0m, in \u001B[0;36mMusicConsole.searchMusic\u001B[1;34m(self, keyword)\u001B[0m\n\u001B[0;32m     57\u001B[0m \u001B[38;5;28mself\u001B[39m\u001B[38;5;241m.\u001B[39mopenUrl(url)\n\u001B[0;32m     58\u001B[0m time\u001B[38;5;241m.\u001B[39msleep(\u001B[38;5;241m3\u001B[39m)\n\u001B[1;32m---> 59\u001B[0m \u001B[38;5;28;43mself\u001B[39;49m\u001B[38;5;241;43m.\u001B[39;49m\u001B[43mwaitElement\u001B[49m\u001B[43m(\u001B[49m\u001B[38;5;28;43mself\u001B[39;49m\u001B[38;5;241;43m.\u001B[39;49m\u001B[43mxpath_dict\u001B[49m\u001B[43m[\u001B[49m\u001B[38;5;124;43m'\u001B[39;49m\u001B[38;5;124;43msearch_result_list\u001B[39;49m\u001B[38;5;124;43m'\u001B[39;49m\u001B[43m]\u001B[49m\u001B[43m)\u001B[49m\n",
      "Input \u001B[1;32mIn [2]\u001B[0m, in \u001B[0;36mMusicConsole.waitElement\u001B[1;34m(xpath, info)\u001B[0m\n\u001B[0;32m     51\u001B[0m     console_logger\u001B[38;5;241m.\u001B[39minfo(\u001B[38;5;124mf\u001B[39m\u001B[38;5;124m\"\u001B[39m\u001B[38;5;124m元素 \u001B[39m\u001B[38;5;132;01m{\u001B[39;00minfo\u001B[38;5;132;01m}\u001B[39;00m\u001B[38;5;124m 加载成功: \u001B[39m\u001B[38;5;132;01m{\u001B[39;00mxpath\u001B[38;5;132;01m}\u001B[39;00m\u001B[38;5;124m\"\u001B[39m)\n\u001B[0;32m     52\u001B[0m \u001B[38;5;28;01mexcept\u001B[39;00m TimeoutException:\n\u001B[1;32m---> 53\u001B[0m     \u001B[38;5;28;01mraise\u001B[39;00m TimeoutException(\u001B[38;5;124mf\u001B[39m\u001B[38;5;124m\"\u001B[39m\u001B[38;5;124m网页元素加载失败，请重试，页面元素xpath路径：\u001B[39m\u001B[38;5;132;01m{\u001B[39;00mxpath\u001B[38;5;132;01m}\u001B[39;00m\u001B[38;5;124m\"\u001B[39m)\n",
      "\u001B[1;31mTimeoutException\u001B[0m: Message: 网页元素加载失败，请重试，页面元素xpath路径：//*[@id=\"g_iframe\"]//*[@id=\"m-search\"]/div[3]/div/div\n"
     ]
    }
   ],
   "source": [
    "class MusicConsole:\n",
    "    def __init__(self, station='net_ease'):\n",
    "        assert station in music_station\n",
    "        self.station = station\n",
    "        self.music_station_url = music_station[station]['url']\n",
    "        self.xpath_dict = music_station[station]['xpath']\n",
    "\n",
    "    @staticmethod\n",
    "    def openUrl(url):\n",
    "        try:\n",
    "            web.get(url)\n",
    "        except TimeoutException:\n",
    "            raise TimeoutException(f\"网页加载失败：{url}\")\n",
    "\n",
    "    @staticmethod\n",
    "    def waitElement(xpath, info=\"\"):\n",
    "        try:\n",
    "            WebDriverWait(web, 10).until(\n",
    "                EC.presence_of_element_located((By.XPATH, xpath))\n",
    "            )\n",
    "            console_logger.info(f\"元素 {info} 加载成功: {xpath}\")\n",
    "        except TimeoutException:\n",
    "            raise TimeoutException(f\"网页元素加载失败，请重试，页面元素xpath路径：{xpath}\")\n",
    "\n",
    "    def searchMusic(self, keyword):\n",
    "        url = self.music_station_url.replace(\"$keyword$\", keyword)\n",
    "        self.openUrl(url)\n",
    "        time.sleep(3)\n",
    "        # self.waitElement(self.xpath_dict['search_result_list'])\n",
    "\n",
    "    def getMusicUrls(self):\n",
    "        print(self.xpath_dict['search_result_list'])\n",
    "        music_list = web.find_elements(By.XPATH, \"/html/body/div[3]/div/div[2]/div[2]/div/div\")\n",
    "        print(music_list)"
   ],
   "metadata": {
    "collapsed": false,
    "pycharm": {
     "name": "#%%\n"
    }
   }
  },
  {
   "cell_type": "code",
   "execution_count": null,
   "outputs": [],
   "source": [
    "mc = MusicConsole('net_ease')\n",
    "mc.searchMusic(\"fripside\")\n"
   ],
   "metadata": {
    "collapsed": false,
    "pycharm": {
     "name": "#%%\n"
    }
   }
  },
  {
   "cell_type": "code",
   "execution_count": 14,
   "outputs": [],
   "source": [
    "frame_ele = web.find_element(By.XPATH, '//*[@id=\"g_iframe\"]')\n",
    "web.switch_to.frame(frame_ele)"
   ],
   "metadata": {
    "collapsed": false,
    "pycharm": {
     "name": "#%%\n"
    }
   }
  },
  {
   "cell_type": "code",
   "execution_count": 20,
   "outputs": [
    {
     "data": {
      "text/plain": "[<selenium.webdriver.remote.webelement.WebElement (session=\"d68128b57efd089d5e6c2d00049b5627\", element=\"9865f624-c582-4810-9275-813b8ae58d97\")>,\n <selenium.webdriver.remote.webelement.WebElement (session=\"d68128b57efd089d5e6c2d00049b5627\", element=\"c25faf43-f724-445e-a7cf-0a15caea4e57\")>,\n <selenium.webdriver.remote.webelement.WebElement (session=\"d68128b57efd089d5e6c2d00049b5627\", element=\"6b8e3de2-58ae-45de-a4ae-032e0501cbe4\")>,\n <selenium.webdriver.remote.webelement.WebElement (session=\"d68128b57efd089d5e6c2d00049b5627\", element=\"d65846b9-17b6-4824-92ac-4c891c9771ee\")>,\n <selenium.webdriver.remote.webelement.WebElement (session=\"d68128b57efd089d5e6c2d00049b5627\", element=\"a37deab7-48ee-44b7-a2a5-9f2a48af7afd\")>,\n <selenium.webdriver.remote.webelement.WebElement (session=\"d68128b57efd089d5e6c2d00049b5627\", element=\"d82fe109-d603-4a73-9d1a-d7122b86c9bc\")>,\n <selenium.webdriver.remote.webelement.WebElement (session=\"d68128b57efd089d5e6c2d00049b5627\", element=\"9875f3fa-0320-4599-83f2-53101ad5cae7\")>,\n <selenium.webdriver.remote.webelement.WebElement (session=\"d68128b57efd089d5e6c2d00049b5627\", element=\"1b18798f-7748-40c0-b525-e9a09c2126ed\")>,\n <selenium.webdriver.remote.webelement.WebElement (session=\"d68128b57efd089d5e6c2d00049b5627\", element=\"00a9a8dd-3b43-4c16-a78c-e62a6e495d71\")>,\n <selenium.webdriver.remote.webelement.WebElement (session=\"d68128b57efd089d5e6c2d00049b5627\", element=\"b7b2a766-d5a7-4f80-9f62-74ab2274d7ac\")>,\n <selenium.webdriver.remote.webelement.WebElement (session=\"d68128b57efd089d5e6c2d00049b5627\", element=\"b55bc342-d77a-45e3-bdda-1c3d8cf55abf\")>,\n <selenium.webdriver.remote.webelement.WebElement (session=\"d68128b57efd089d5e6c2d00049b5627\", element=\"ae664ce4-6072-4013-abab-5d970c020e0e\")>,\n <selenium.webdriver.remote.webelement.WebElement (session=\"d68128b57efd089d5e6c2d00049b5627\", element=\"497f2460-1493-4530-99b3-54de225ef910\")>,\n <selenium.webdriver.remote.webelement.WebElement (session=\"d68128b57efd089d5e6c2d00049b5627\", element=\"3c81b5a2-ca81-4c04-8904-e15084080910\")>,\n <selenium.webdriver.remote.webelement.WebElement (session=\"d68128b57efd089d5e6c2d00049b5627\", element=\"1b193b3e-cb62-41fd-a3e2-f03893033ac2\")>,\n <selenium.webdriver.remote.webelement.WebElement (session=\"d68128b57efd089d5e6c2d00049b5627\", element=\"f5128bf6-9afa-46cc-84b3-67d43deb0fc2\")>,\n <selenium.webdriver.remote.webelement.WebElement (session=\"d68128b57efd089d5e6c2d00049b5627\", element=\"be62a3fb-2bbb-4b45-97cb-00c16b57c875\")>,\n <selenium.webdriver.remote.webelement.WebElement (session=\"d68128b57efd089d5e6c2d00049b5627\", element=\"f5062bd0-9e56-41ca-b497-8c28930c41de\")>,\n <selenium.webdriver.remote.webelement.WebElement (session=\"d68128b57efd089d5e6c2d00049b5627\", element=\"20956129-a823-4f57-99c0-574b6cfc9532\")>,\n <selenium.webdriver.remote.webelement.WebElement (session=\"d68128b57efd089d5e6c2d00049b5627\", element=\"ffe5df44-e1d9-42f1-b659-c8f5ba91f17a\")>]"
     },
     "execution_count": 20,
     "metadata": {},
     "output_type": "execute_result"
    }
   ],
   "source": [
    "web.find_elements(By.XPATH, '//*[@id=\"auto-id-QPxc8LEDsdm6XkaI\"]/div/div/div')\n"
   ],
   "metadata": {
    "collapsed": false,
    "pycharm": {
     "name": "#%%\n"
    }
   }
  }
 ],
 "metadata": {
  "kernelspec": {
   "name": "pycharm-c9e7e367",
   "language": "python",
   "display_name": "PyCharm (paper)"
  },
  "language_info": {
   "codemirror_mode": {
    "name": "ipython",
    "version": 2
   },
   "file_extension": ".py",
   "mimetype": "text/x-python",
   "name": "python",
   "nbconvert_exporter": "python",
   "pygments_lexer": "ipython2",
   "version": "2.7.6"
  }
 },
 "nbformat": 4,
 "nbformat_minor": 0
}